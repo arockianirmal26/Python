{
 "cells": [
  {
   "cell_type": "markdown",
   "id": "ceaccb81",
   "metadata": {},
   "source": [
    "# Classes and Objects"
   ]
  },
  {
   "cell_type": "code",
   "execution_count": 12,
   "id": "bc8c15a9",
   "metadata": {},
   "outputs": [
    {
     "name": "stdout",
     "output_type": "stream",
     "text": [
      "John Deposited:  1000  Euros\n",
      "John took 400 Euros. Hence he has 600 Euros in the account now.\n",
      "John took 200 Euros again. Hence he has 400 Euros in the account now.\n",
      "\n",
      "\n",
      "Victor Deposited:  100  Euros\n",
      "Victor took 20 Euros. Hence he has 80 Euros in the account now.\n",
      "Victor took 30 Euros again. Hence he has 50 Euros in the account now.\n"
     ]
    }
   ],
   "source": [
    "\n",
    "class bankAccount:\n",
    "    def __init__(self): #(constructor) inside the class the functions must always have 'self' in parameter\n",
    "        self.balance = 0\n",
    "        \n",
    "    def deposit (self, total_amount):\n",
    "        self.balance += total_amount\n",
    "        return self.balance\n",
    "        \n",
    "    def withdraw (self, total_amount):\n",
    "        self.balance -= total_amount\n",
    "        return self.balance\n",
    "        \n",
    "#Object initialization\n",
    "john_account = bankAccount()\n",
    "victor_account = bankAccount()\n",
    "\n",
    "print(\"John Deposited: \", john_account.deposit(1000) , \" Euros\")\n",
    "print(\"John took 400 Euros. Hence he has\", john_account.withdraw(400) , \"Euros in the account now.\" )\n",
    "print(\"John took 200 Euros again. Hence he has\", john_account.withdraw(200) , \"Euros in the account now.\" )\n",
    "print(\"\\n\")\n",
    "print(\"Victor Deposited: \", victor_account.deposit(100) , \" Euros\")\n",
    "print(\"Victor took 20 Euros. Hence he has\", victor_account.withdraw(20) , \"Euros in the account now.\" )\n",
    "print(\"Victor took 30 Euros again. Hence he has\", victor_account.withdraw(30) , \"Euros in the account now.\" )"
   ]
  },
  {
   "cell_type": "markdown",
   "id": "c7c0a3ac",
   "metadata": {},
   "source": [
    "# Inheritance"
   ]
  },
  {
   "cell_type": "code",
   "execution_count": 17,
   "id": "f7ad072d",
   "metadata": {},
   "outputs": [
    {
     "name": "stdout",
     "output_type": "stream",
     "text": [
      "Adam Deposited:  1000  Euros\n",
      "Sorry you cannot withdraw 985 Euros. Since minimum balance limit is 20 Euros.\n"
     ]
    }
   ],
   "source": [
    "\n",
    "class minimumBalanceAccount(bankAccount): #this class inherits every methods/variables defined from the above class\n",
    "    def __init__(self):\n",
    "        bankAccount.__init__(self)\n",
    "        self.minimumBalance = 20 # minimum balance nust be 20 euros\n",
    "        \n",
    "        \n",
    "    def withdraw (self, total_amount):\n",
    "        if (self.balance-total_amount)<=self.minimumBalance:\n",
    "            print(\"Sorry you cannot withdraw\", total_amount, \"Euros. Since minimum balance limit is 20 Euros.\")\n",
    "        else:\n",
    "            bankAccount.withdraw (self, total_amount)\n",
    "\n",
    "#Object initialization \n",
    "adam_account = minimumBalanceAccount() # opening a minimum balance account for adam\n",
    "\n",
    "print(\"Adam Deposited: \", adam_account.deposit(1000) , \" Euros\")   \n",
    "adam_account.withdraw(985) \n",
    "        "
   ]
  }
 ],
 "metadata": {
  "kernelspec": {
   "display_name": "Python 3",
   "language": "python",
   "name": "python3"
  },
  "language_info": {
   "codemirror_mode": {
    "name": "ipython",
    "version": 3
   },
   "file_extension": ".py",
   "mimetype": "text/x-python",
   "name": "python",
   "nbconvert_exporter": "python",
   "pygments_lexer": "ipython3",
   "version": "3.8.5"
  },
  "toc": {
   "base_numbering": 1,
   "nav_menu": {},
   "number_sections": true,
   "sideBar": true,
   "skip_h1_title": false,
   "title_cell": "Table of Contents",
   "title_sidebar": "Contents",
   "toc_cell": false,
   "toc_position": {},
   "toc_section_display": true,
   "toc_window_display": true
  }
 },
 "nbformat": 4,
 "nbformat_minor": 5
}
