{
 "cells": [
  {
   "cell_type": "code",
   "execution_count": 9,
   "id": "af967e52",
   "metadata": {},
   "outputs": [
    {
     "name": "stdout",
     "output_type": "stream",
     "text": [
      "[34, 4]\n",
      "\n",
      "\n",
      "[34]\n",
      "\n",
      "\n",
      "[34, 74, 44]\n",
      "\n",
      "\n",
      "[34, 74]\n",
      "\n",
      "\n",
      "2\n"
     ]
    }
   ],
   "source": [
    "#LIST\n",
    "#===============================================================\n",
    "#declaration\n",
    "list0 = []\n",
    "list1 =[3,4,5]\n",
    "list2 = [3,6,\"sample\"]\n",
    "list3 = [2,4,[4,5]]\n",
    "list4 = list(range(10))\n",
    "\n",
    "#adding/removing objects from list\n",
    "list0.append(34)\n",
    "list0.append(4)\n",
    "\n",
    "print (list0) #[34, 4]\n",
    "print(\"\\n\")\n",
    "\n",
    "list0.pop() # remove last item in the list\n",
    "print (list0) # [34]\n",
    "print(\"\\n\")\n",
    "\n",
    "list0.append(74)\n",
    "list0.append(44)\n",
    "print (list0) # [34, 74, 44]\n",
    "print(\"\\n\")\n",
    "\n",
    "list0.pop(-1) # remove last item in the list\n",
    "print (list0) # [34, 74]\n",
    "print(\"\\n\")\n",
    "print (len(list0)) #2"
   ]
  },
  {
   "cell_type": "code",
   "execution_count": 34,
   "id": "948e3d0e",
   "metadata": {},
   "outputs": [
    {
     "name": "stdout",
     "output_type": "stream",
     "text": [
      "[45, 4, 5, 3, 6, 'sample']\n",
      "\n",
      "\n",
      "[45, 4, 5, 45, 4, 5, 45, 4, 5]\n",
      "\n",
      "\n",
      "3\n",
      "5\n",
      "\n",
      "\n",
      "[3]\n",
      "[3, 4]\n",
      "[5, 4, 3]\n",
      "\n",
      "\n",
      "[3, 4, 5]\n",
      "[45, 4, 5]\n",
      "True\n",
      "False\n",
      "\n",
      "\n",
      "90 8 10 \n",
      "\n",
      "[]\n"
     ]
    }
   ],
   "source": [
    "#The + and * operators work even on lists\n",
    "print (list1+list2) #[3, 4, 5, 3, 6, 'sample']\n",
    "print(\"\\n\")\n",
    "print (list1*3) # [3, 4, 5, 3, 4, 5, 3, 4, 5]\n",
    "print(\"\\n\")\n",
    "\n",
    "#fetch individual items in the list\n",
    "list1 =[3,4,5]\n",
    "print (list1[0]) #3\n",
    "print (list1[-1]) #5\n",
    "print(\"\\n\")\n",
    "\n",
    "#slicing the list \n",
    "print (list1[0:1]) #[3]\n",
    "#strip last element from the list \n",
    "print (list1[0:-1]) #[3, 4]\n",
    "\n",
    "#reverse the list \n",
    "print (list1[::-1]) #[5, 4, 3]\n",
    "print(\"\\n\")\n",
    "\n",
    "# modify an element in the list \n",
    "print (list1) #[3, 4, 5]\n",
    "list1[0] = 45\n",
    "print (list1) #[45, 4, 5]\n",
    "\n",
    "#Presence of a key in a list can be tested using in operator.\n",
    "print (4 in list1) #True\n",
    "print (46 in list1) #False\n",
    "print(\"\\n\")\n",
    "\n",
    "#list manipulation in for loop\n",
    "for element in list1:\n",
    "    print (element*2, end =\" \") # end =\" \" --> print result in a single line separated by space\n",
    "    \n",
    "#clear the complete list\n",
    "list1.clear()\n",
    "print(\"\\n\")\n",
    "print (list1) "
   ]
  },
  {
   "cell_type": "code",
   "execution_count": 3,
   "id": "81f9b601",
   "metadata": {},
   "outputs": [
    {
     "name": "stdout",
     "output_type": "stream",
     "text": [
      "{'English', 'Spanish', 'German'}\n",
      "\n",
      "\n",
      "{'Italian', 'Spanish', 'German'}\n",
      "3\n",
      "\n",
      "\n",
      "{'Italian', 'Spanish', 'German'}\n",
      "\n",
      "\n"
     ]
    },
    {
     "ename": "AttributeError",
     "evalue": "'tuple' object has no attribute 'add'",
     "output_type": "error",
     "traceback": [
      "\u001b[0;31m---------------------------------------------------------------------------\u001b[0m",
      "\u001b[0;31mAttributeError\u001b[0m                            Traceback (most recent call last)",
      "\u001b[0;32m<ipython-input-3-6962fea61ab0>\u001b[0m in \u001b[0;36m<module>\u001b[0;34m\u001b[0m\n\u001b[1;32m     17\u001b[0m \u001b[0mprint\u001b[0m \u001b[0;34m(\u001b[0m\u001b[0mset1\u001b[0m\u001b[0;34m)\u001b[0m\u001b[0;34m\u001b[0m\u001b[0;34m\u001b[0m\u001b[0m\n\u001b[1;32m     18\u001b[0m \u001b[0mprint\u001b[0m\u001b[0;34m(\u001b[0m\u001b[0;34m\"\\n\"\u001b[0m\u001b[0;34m)\u001b[0m\u001b[0;34m\u001b[0m\u001b[0;34m\u001b[0m\u001b[0m\n\u001b[0;32m---> 19\u001b[0;31m \u001b[0mtuple1\u001b[0m\u001b[0;34m.\u001b[0m\u001b[0madd\u001b[0m\u001b[0;34m(\u001b[0m\u001b[0;34m\"Italian\"\u001b[0m\u001b[0;34m)\u001b[0m\u001b[0;34m\u001b[0m\u001b[0;34m\u001b[0m\u001b[0m\n\u001b[0m\u001b[1;32m     20\u001b[0m \u001b[0;34m\u001b[0m\u001b[0m\n",
      "\u001b[0;31mAttributeError\u001b[0m: 'tuple' object has no attribute 'add'"
     ]
    }
   ],
   "source": [
    "#SET (Unordered, immutable, no duplicates)\n",
    "#===============================================================\n",
    "#A set is an unordered collection of items. Every set element is unique (no duplicates) and must be immutable (cannot be changed). \n",
    "#However, a set itself is mutable. We can add or remove items from it.\n",
    "\n",
    "set1 = {\"English\",\"German\", \"Spanish\",\"German\"}\n",
    "print (set1)\n",
    "print(\"\\n\")\n",
    "\n",
    "set1.remove(\"English\")\n",
    "set1.add(\"Italian\")\n",
    "print (set1)\n",
    "print (len(set1))\n",
    "print(\"\\n\")\n",
    "\n",
    "#TUPLE \n",
    "#===============================================================\n",
    "\n",
    "tuple1 = (\"English\",\"German\", \"Spanish\",\"German\")\n",
    "print (set1)\n",
    "print(\"\\n\")\n",
    "tuple1.add(\"Italian\") #'tuple' object has no attribute 'add'\n",
    "\n"
   ]
  },
  {
   "cell_type": "code",
   "execution_count": 47,
   "id": "5111ffb5",
   "metadata": {},
   "outputs": [
    {
     "name": "stdout",
     "output_type": "stream",
     "text": [
      "{'George': 24, 'Tom': 22}\n",
      "\n",
      "\n",
      "{'George': 24, 'Tom': 22, 'Victor': 25}\n",
      "\n",
      "\n",
      "3\n",
      "\n",
      "\n",
      "{'Tom': 22, 'Victor': 25}\n",
      "\n",
      "\n",
      "dict_keys(['Tom', 'Victor'])\n",
      "dict_values([22, 25])\n",
      "dict_items([('Tom', 22), ('Victor', 25)])\n",
      "\n",
      "\n",
      "Tom 22\n",
      "Victor 25\n"
     ]
    }
   ],
   "source": [
    "#DICTIONARY (Key (commonly strings or numbers)-Value Pairs(any values)) \n",
    "#===============================================================\n",
    "\n",
    "# definition\n",
    "d = {}   \n",
    "d1 = {\"George\":24, \"Tom\":22} # definition\n",
    "print(d1) #{'George': 24, 'Tom': 22}\n",
    "print(\"\\n\")\n",
    "\n",
    "#adding values to the  dictionary\n",
    "d1[\"Victor\"] = 25\n",
    "print(d1) # {'George': 24, 'Tom': 22, 'Victor': 25}\n",
    "print(\"\\n\")\n",
    "\n",
    "#length of dictionary \n",
    "print (len(d1)) #3\n",
    "print(\"\\n\")\n",
    "\n",
    "#remove a entry from dictionary\n",
    "del d1[\"George\"]\n",
    "print (d1) #{'Tom': 22, 'Victor': 25}\n",
    "print(\"\\n\")\n",
    "\n",
    "# print keys and values separately from dictionary \n",
    "print(d1.keys())\n",
    "print(d1.values())\n",
    "print(d1.items()) #returns all key-value pairs in a dictionary\n",
    "print(\"\\n\")\n",
    "\n",
    "#looping through dictionary\n",
    "for key, value in d1.items(): \n",
    "    print(key, value)"
   ]
  }
 ],
 "metadata": {
  "kernelspec": {
   "display_name": "Python 3",
   "language": "python",
   "name": "python3"
  },
  "language_info": {
   "codemirror_mode": {
    "name": "ipython",
    "version": 3
   },
   "file_extension": ".py",
   "mimetype": "text/x-python",
   "name": "python",
   "nbconvert_exporter": "python",
   "pygments_lexer": "ipython3",
   "version": "3.8.5"
  }
 },
 "nbformat": 4,
 "nbformat_minor": 5
}
