{
 "cells": [
  {
   "cell_type": "code",
   "execution_count": 1,
   "id": "b3d15f3b",
   "metadata": {},
   "outputs": [
    {
     "name": "stdout",
     "output_type": "stream",
     "text": [
      "Enter Number1: 4\n",
      "Enter Number2: 3\n",
      "num1 ' 4 ' is greater than num2'  3 '\n"
     ]
    }
   ],
   "source": [
    "#IF Else\n",
    "#===============================================================\n",
    "\n",
    "num1 = int(input(\"Enter Number1: \"))\n",
    "num2 = int(input(\"Enter Number2: \"))\n",
    "\n",
    "if (num1 > num2):\n",
    "    print(\"num1 '\",num1, \"' is greater than num2' \", num2, \"'\")\n",
    "elif (num2 > num1):\n",
    "    print(\"num2 '\",num2, \"' is greater than num1' \", num1, \"'\")\n",
    "else:\n",
    "    print(\"num1 '\",num1, \"' is equal to num2' \", num2, \"'\")"
   ]
  },
  {
   "cell_type": "code",
   "execution_count": 10,
   "id": "3fe55da2",
   "metadata": {},
   "outputs": [
    {
     "name": "stdout",
     "output_type": "stream",
     "text": [
      "I am called  1  time\n",
      "I am called  2  time\n",
      "I am called  3  time\n",
      "\n",
      "\n",
      "I am called  1  time\n",
      "I am called  2  time\n",
      "I am called  3  time\n",
      "While Loop Exited\n",
      "\n",
      "\n",
      "10\n"
     ]
    }
   ],
   "source": [
    "#LOOPS\n",
    "#===============================================================\n",
    "#WHILE LOOP \n",
    "#While loop does the exactly same thing what \"if statement\" does, but instead of running the code block once, \n",
    "#they jump back to the point where it began the code and repeats the whole process again.\n",
    "#===============================================================\n",
    "\n",
    "count = 0\n",
    "while (count<3):\n",
    "    count += 1\n",
    "    print(\"I am called \", count, \" time\")\n",
    "   \n",
    "\n",
    "print(\"\\n\")\n",
    "\n",
    "\n",
    "# Combining while with else\n",
    "count = 0\n",
    "while (count<3):\n",
    "    count += 1\n",
    "    print(\"I am called \", count, \" time\")\n",
    "else:\n",
    "    print(\"While Loop Exited\")\n",
    "    \n",
    "print(\"\\n\")\n",
    "\n",
    "\n",
    "#--- when we dont know how many loops do our program needs to process in advance, we use while instead of for loop\n",
    "#--- in the below example we might not know in advance how many loops do we need hence using while loop\n",
    "#---do the sum of positive numbers in the list until first negative number met\n",
    "\n",
    "list1 = [1,2,3,4,-4,-5]\n",
    "i=0\n",
    "sum1=0\n",
    "while (list1[i]>0):\n",
    "    sum1 += list1[i]\n",
    "    i +=1;\n",
    "    \n",
    "print(sum1)  "
   ]
  },
  {
   "cell_type": "code",
   "execution_count": 24,
   "id": "0997570d",
   "metadata": {},
   "outputs": [
    {
     "name": "stdout",
     "output_type": "stream",
     "text": [
      "10\n",
      "12\n",
      "14\n",
      "16\n",
      "18\n",
      "\n",
      "\n",
      "Jan\n",
      "Feb\n",
      "Mar\n",
      "April\n",
      "May\n",
      "June\n",
      "\n",
      "\n",
      "use the break statement\n",
      "10\n",
      "12\n",
      "14\n",
      "\n",
      "\n",
      "use the continue statement\n",
      "10\n",
      "11\n",
      "12\n",
      "13\n",
      "15\n",
      "16\n",
      "17\n",
      "18\n",
      "19\n"
     ]
    }
   ],
   "source": [
    "#FOR LOOP\n",
    "#In Python, \"for loops\" are called iterators.\n",
    "#Just like while loop, \"For Loop\" is also used to repeat the program.\n",
    "#But unlike while loop which depends on condition true or false. \n",
    "#\"For Loop\" depends on the elements it has to iterate.\n",
    "#===============================================================\n",
    "\n",
    "# with numbers\n",
    "for x in range (10,20,2):\n",
    "    print(x)\n",
    "    \n",
    "print(\"\\n\")\n",
    "\n",
    "\n",
    "#with strings\n",
    "Months = [\"Jan\",\"Feb\",\"Mar\",\"April\",\"May\",\"June\"]\n",
    "for month in Months:\n",
    "    print(month)\n",
    "    \n",
    "    \n",
    "print(\"\\n\")\n",
    "print(\"use the break statement\")\n",
    "# use the break statement\n",
    "for x in range (10,20,1):\n",
    "    if (x==16):\n",
    "        break #terminate for loop at 16\n",
    "    elif (x%2 == 0):\n",
    "        print(x)\n",
    "\n",
    "print(\"\\n\")\n",
    "print(\"use the continue statement\")\n",
    "# use the continue statement\n",
    "for x in range (10,20,1):\n",
    "    if (x == 14):\n",
    "        continue #skip '14'\n",
    "    print(x)\n",
    "        \n",
    "        "
   ]
  }
 ],
 "metadata": {
  "kernelspec": {
   "display_name": "Python 3",
   "language": "python",
   "name": "python3"
  },
  "language_info": {
   "codemirror_mode": {
    "name": "ipython",
    "version": 3
   },
   "file_extension": ".py",
   "mimetype": "text/x-python",
   "name": "python",
   "nbconvert_exporter": "python",
   "pygments_lexer": "ipython3",
   "version": "3.8.5"
  }
 },
 "nbformat": 4,
 "nbformat_minor": 5
}
