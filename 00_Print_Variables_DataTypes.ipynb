{
 "cells": [
  {
   "cell_type": "code",
   "execution_count": 41,
   "id": "cdd615c5",
   "metadata": {},
   "outputs": [
    {
     "name": "stdout",
     "output_type": "stream",
     "text": [
      "Hello World\n",
      "Hello World\n",
      "\n",
      "\n",
      "23\n",
      "-1\n",
      "3.45\n",
      "Enter a number:56\n",
      "You entered the number:  56\n"
     ]
    }
   ],
   "source": [
    "#Printing Strings\n",
    "#===============================================================\n",
    "print(\"Hello World\")\n",
    "print('Hello World')\n",
    "\n",
    "#Printing Integers / decimal numbers\n",
    "print(\"\\n\")\n",
    "print(23)\n",
    "print(-1)\n",
    "print(3.45)\n",
    "\n",
    "#user input\n",
    "num = int(input(\"Enter a number:\"))\n",
    "print(\"You entered the number: \", num)"
   ]
  },
  {
   "cell_type": "code",
   "execution_count": 5,
   "id": "a5afb6af",
   "metadata": {},
   "outputs": [
    {
     "name": "stdout",
     "output_type": "stream",
     "text": [
      "3\n",
      "4.5\n",
      "helloworld\n"
     ]
    }
   ],
   "source": [
    "#Variables\n",
    "#===============================================================\n",
    "''' \n",
    "In Python, variables don’t have a type. They are just placeholders which can hold any type of values \n",
    "In other programming languages like C, C++, and Java, you will need to declare the type of variables but,\n",
    "in Python you don’t need to do that.\n",
    "'''\n",
    "myNum1 = 3\n",
    "print(myNum1)\n",
    "  \n",
    "myNum2 = 4.5\n",
    "print(myNum2)\n",
    "  \n",
    "myString =\"helloworld\"\n",
    "print(myString)\n",
    "\n"
   ]
  },
  {
   "cell_type": "code",
   "execution_count": 40,
   "id": "b2f24050",
   "metadata": {},
   "outputs": [
    {
     "name": "stdout",
     "output_type": "stream",
     "text": [
      "2\n",
      "8\n",
      "4.7\n",
      "\n",
      "\n",
      "Hello\n",
      "Hello\n",
      "Hello World\n",
      " Hello Hello Hello\n",
      "\n",
      "\n",
      "--This is multi line string in python\n",
      "I can write across many line\n",
      "This is an example for that\n",
      "\n",
      "\n",
      "--This is multi line string in python\n",
      "I can write across many line\n",
      "This is an example for that\n"
     ]
    }
   ],
   "source": [
    "#Datatypes\n",
    "#===============================================================\n",
    "\n",
    "# integers\n",
    "print(1+1)\n",
    "\n",
    "#exponent \n",
    "print (2 ** 3)\n",
    "\n",
    "#floating points\n",
    "print(3.5+1.2)\n",
    "\n",
    "#strings (String can be enclosed either in single quotes or double quotes. Both are exactly the same)\n",
    "print(\"\\n\")\n",
    "print (\"Hello\")\n",
    "print ('Hello')\n",
    "print (\"Hello\"+\" World\")\n",
    "print (\" Hello\" * 3)\n",
    "print(\"\\n\")\n",
    "\n",
    "#Multiline Strings\n",
    "myText = \"\"\"--This is multi line string in python\n",
    "I can write across many line\n",
    "This is an example for that\"\"\"\n",
    "print(myText)\n",
    "\n",
    "print(\"\\n\")\n",
    "print (\"\"\"--This is multi line string in python\n",
    "I can write across many line\n",
    "This is an example for that\"\"\")\n"
   ]
  },
  {
   "cell_type": "code",
   "execution_count": 31,
   "id": "5cc222f2",
   "metadata": {},
   "outputs": [
    {
     "name": "stdout",
     "output_type": "stream",
     "text": [
      "a\n",
      "b\tc\n",
      "\n",
      "\n",
      "['a', 'b', 'c']\n",
      "\n",
      "\n",
      "('a', 'b', 'c')\n",
      "\n",
      "\n",
      "('a', 'b', 'c')\n"
     ]
    }
   ],
   "source": [
    "#Escape Codes (\\n indicates new line, \\t indicates a tab etc.)\n",
    "print (\"a\\nb\\tc\")\n",
    "\n",
    "#Python has lists. Lists are one of the most useful data types Python. List are mutable (can be changed)\n",
    "List1 = [\"a\", \"b\", \"c\"]\n",
    "print (\"\\n\") \n",
    "print(List1)\n",
    "\n",
    "#Python has another datatype called tuple for representing fixed width records. \n",
    "#Tuples behave just like lists, but they are immutable.\n",
    "Tuple1 = (\"a\", \"b\", \"c\")\n",
    "print (\"\\n\") \n",
    "print(Tuple1)\n",
    "\n",
    "Tuple2 = \"a\", \"b\", \"c\"\n",
    "print (\"\\n\") \n",
    "print(Tuple2)"
   ]
  },
  {
   "cell_type": "code",
   "execution_count": 36,
   "id": "1a89d732",
   "metadata": {},
   "outputs": [
    {
     "name": "stdout",
     "output_type": "stream",
     "text": [
      "Nirmal\n",
      "Nirmal@example.com\n",
      "\n",
      "\n",
      "{1, 2, 3}\n",
      "\n",
      "\n",
      "True\n",
      "False\n",
      "\n",
      "\n",
      "None\n"
     ]
    }
   ],
   "source": [
    "#Dictionary (Python has a dictionary datatype for representing name-value pairs.)\n",
    "person = {\"name\": \"Nirmal\", \"email\": \"Nirmal@example.com\"}\n",
    "print(person['name'])\n",
    "print(person['email'])\n",
    "\n",
    "#set (A set is an unordered collection with no duplicate elements)\n",
    "set1 = {1,2,3,1,2}\n",
    "print(\"\\n\")\n",
    "print(set1)\n",
    "\n",
    "# 'Boolean' Datatype (It has two special values True and False to represent truth and false)\n",
    "bool1 = True # use first letter capital\n",
    "bool2 = False\n",
    "print(\"\\n\")\n",
    "print(bool1)\n",
    "print(bool2)\n",
    "\n",
    "# 'None' Datatype (Finally, Python has a special type called None to represent nothing.)\n",
    "xx = None\n",
    "print(\"\\n\")\n",
    "print(xx)"
   ]
  }
 ],
 "metadata": {
  "kernelspec": {
   "display_name": "Python 3",
   "language": "python",
   "name": "python3"
  },
  "language_info": {
   "codemirror_mode": {
    "name": "ipython",
    "version": 3
   },
   "file_extension": ".py",
   "mimetype": "text/x-python",
   "name": "python",
   "nbconvert_exporter": "python",
   "pygments_lexer": "ipython3",
   "version": "3.8.5"
  }
 },
 "nbformat": 4,
 "nbformat_minor": 5
}
