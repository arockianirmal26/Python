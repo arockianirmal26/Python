{
 "cells": [
  {
   "cell_type": "code",
   "execution_count": 42,
   "id": "b53c0299",
   "metadata": {},
   "outputs": [
    {
     "name": "stdout",
     "output_type": "stream",
     "text": [
      "hello 1 2 3\n",
      "\n",
      "\n",
      "the length of the word hello is:  5\n",
      "\n",
      "\n",
      "the length of the given list is:  3\n",
      "\n",
      "\n",
      "Counting the number of digits:  5\n",
      "\n",
      "\n",
      "2ab\n",
      "\n",
      "\n",
      "TEST\n",
      "test\n"
     ]
    }
   ],
   "source": [
    "#Functions\n",
    "#===============================================================\n",
    "#Built in Functions\n",
    "#===============================================================\n",
    "\n",
    "# print function\n",
    "print('hello', 1, 2, 3)\n",
    "\n",
    "#length function\n",
    "print(\"\\n\")\n",
    "print(\"the length of the word hello is: \",len(\"hello\"))\n",
    "print(\"\\n\")\n",
    "print(\"the length of the given list is: \",len(['a', 'b', 'c']))\n",
    "print(\"\\n\")\n",
    "print (\"Counting the number of digits: \",len(str(12345)))\n",
    "\n",
    "#str and int function (Python doesn’t allow operations on incompatible data types hence we use these functions)\n",
    "a = str(2) + 'ab'\n",
    "print(\"\\n\")\n",
    "print (a)\n",
    "\n",
    "# upper / lower functions\n",
    "print(\"\\n\")\n",
    "x = \"Test\"\n",
    "print (x.upper())\n",
    "print (x.lower())\n"
   ]
  },
  {
   "cell_type": "code",
   "execution_count": 28,
   "id": "f6ca282f",
   "metadata": {},
   "outputs": [
    {
     "name": "stdout",
     "output_type": "stream",
     "text": [
      "I am Called!\n",
      "I am Called!\n",
      "\n",
      "\n",
      "The Square of Value 2 is  4\n",
      "\n",
      "\n",
      "Enter a number: 6\n",
      "6 is Even!\n"
     ]
    }
   ],
   "source": [
    "#Functions\n",
    "#===============================================================\n",
    "#Custom / User Defined Functions\n",
    "#===============================================================\n",
    "\n",
    "\n",
    "#Declaration\n",
    "def printMe():\n",
    "    print (\"I am Called!\")\n",
    "    print (\"I am Called!\")\n",
    "    \n",
    "def square(x):\n",
    "    return (x*x)\n",
    "\n",
    "def oddOReven(num):\n",
    "    if num%2==0:\n",
    "        print(num,\"is Even!\")\n",
    "    else: \n",
    "        print(num,\"is Odd!\")\n",
    "        \n",
    "    \n",
    "#Calling the function\n",
    "printMe()\n",
    "\n",
    "print(\"\\n\")\n",
    "print(\"The Square of Value 2 is \",square(2))\n",
    "\n",
    "print(\"\\n\")\n",
    "num = int(input(\"Enter a number: \"))\n",
    "oddOReven(num)"
   ]
  },
  {
   "cell_type": "code",
   "execution_count": 33,
   "id": "2546ce5f",
   "metadata": {},
   "outputs": [
    {
     "name": "stdout",
     "output_type": "stream",
     "text": [
      "Enter first number: 1\n",
      "Enter second number: 2\n",
      "The sum of square of entered numbers:  5\n"
     ]
    }
   ],
   "source": [
    "# Calling other functions inside a function \n",
    "\n",
    "def f1(x):\n",
    "    return (x*x)\n",
    "\n",
    "def f2(y):\n",
    "    return (y*y)\n",
    "\n",
    "def f3(x,y):\n",
    "    return(f1(x) + f2(y))\n",
    "\n",
    "x = int(input(\"Enter first number: \"))\n",
    "y = int(input(\"Enter second number: \"))\n",
    "\n",
    "z = f3(x,y)\n",
    "print(\"The sum of square of entered numbers: \", z)\n",
    "    "
   ]
  },
  {
   "cell_type": "code",
   "execution_count": 40,
   "id": "a17dd809",
   "metadata": {},
   "outputs": [
    {
     "name": "stdout",
     "output_type": "stream",
     "text": [
      "6\n",
      "0 0\n"
     ]
    }
   ],
   "source": [
    "# the scope of the variables used in functions\n",
    "\n",
    "#Variables assigned in a function, including the arguments are called the local variables to the function. \n",
    "#The variables defined in the top-level are called global variables.\n",
    "\n",
    "x = 0\n",
    "y = 0\n",
    "def incr(x):\n",
    "    y = x + 1\n",
    "    return y\n",
    "z = incr(5)\n",
    "print(z) # printing local variable\n",
    "print (x, y) # printing global variable\n",
    "\n",
    "#Changing the values of x and y inside the function incr won’t effect the values of global x and y.\n",
    "#But, we can use the values of the global variables."
   ]
  },
  {
   "cell_type": "code",
   "execution_count": 11,
   "id": "da7f18d3",
   "metadata": {},
   "outputs": [
    {
     "name": "stdout",
     "output_type": "stream",
     "text": [
      "Passing two arguments. The sum is:  3\n",
      "Passing five arguments. The sum is:  15\n",
      "\n",
      "\n",
      "key is  John /// value is  22\n",
      "key is  Adam /// value is  24\n",
      "key is  Joshua /// value is  21\n"
     ]
    }
   ],
   "source": [
    "# Calling a function with unlimited arguments\n",
    "\n",
    "def func1 (*args):\n",
    "    sum_1 = 0\n",
    "    for arg in args:\n",
    "        sum_1 += arg\n",
    "    return sum_1\n",
    "\n",
    "print (\"Passing two arguments. The sum is: \",func1(1,2))\n",
    "print (\"Passing five arguments. The sum is: \",func1(1,2,3,4,5))\n",
    "print(\"\\n\")\n",
    "\n",
    "# Calling a function with unlimited key value pairs \n",
    "def func2 (**kwargs):\n",
    "    for k,v in kwargs.items():\n",
    "        print(\"key is \", k, \"/// value is \", v)\n",
    "    \n",
    "func2(John=\"22\", Adam=\"24\", Joshua=\"21\")"
   ]
  }
 ],
 "metadata": {
  "kernelspec": {
   "display_name": "Python 3",
   "language": "python",
   "name": "python3"
  },
  "language_info": {
   "codemirror_mode": {
    "name": "ipython",
    "version": 3
   },
   "file_extension": ".py",
   "mimetype": "text/x-python",
   "name": "python",
   "nbconvert_exporter": "python",
   "pygments_lexer": "ipython3",
   "version": "3.8.5"
  }
 },
 "nbformat": 4,
 "nbformat_minor": 5
}
